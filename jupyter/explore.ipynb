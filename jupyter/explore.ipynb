{
 "cells": [
  {
   "metadata": {
    "ExecuteTime": {
     "end_time": "2025-03-04T21:25:45.763355Z",
     "start_time": "2025-03-04T21:25:44.854269Z"
    }
   },
   "cell_type": "code",
   "source": [
    "from tem import world\n",
    "\n",
    "env = world.World(\"../envs/4x4.json\")"
   ],
   "id": "2a1f3bc868b83ede",
   "outputs": [],
   "execution_count": 1
  },
  {
   "metadata": {
    "ExecuteTime": {
     "end_time": "2025-03-04T21:25:47.157070Z",
     "start_time": "2025-03-04T21:25:47.149293Z"
    }
   },
   "cell_type": "code",
   "source": [
    "walk = []\n",
    "new_location = env.get_location(walk)\n",
    "new_observation = env.get_observation(new_location)\n",
    "[env.get_action(new_location, walk) for _ in range(20)]\n"
   ],
   "id": "3b6d28029ffe42d8",
   "outputs": [
    {
     "data": {
      "text/plain": [
       "[2, 2, 4, 4, 0, 3, 3, 2, 4, 2, 4, 0, 2, 4, 4, 3, 4, 0, 1, 3]"
      ]
     },
     "execution_count": 2,
     "metadata": {},
     "output_type": "execute_result"
    }
   ],
   "execution_count": 2
  },
  {
   "metadata": {},
   "cell_type": "markdown",
   "source": [
    "Nodes:\n",
    "```\n",
    "3 4 5\n",
    "0 1 2\n",
    "```\n",
    "\n",
    "Actions:\n",
    "* 0: stay\n",
    "* 1: south\n",
    "* 2: east\n",
    "* 3: north\n",
    "* 4: west"
   ],
   "id": "627347975ebb34e"
  },
  {
   "metadata": {
    "ExecuteTime": {
     "end_time": "2025-03-04T21:35:18.750066Z",
     "start_time": "2025-03-04T21:35:18.746757Z"
    }
   },
   "cell_type": "code",
   "source": [
    "import json\n",
    "with open(\"../envs/2x3_spec.json\") as f:\n",
    "    spec = json.load(f)"
   ],
   "id": "ed865416098cb1fe",
   "outputs": [],
   "execution_count": 2
  },
  {
   "metadata": {
    "ExecuteTime": {
     "end_time": "2025-03-04T21:43:36.066984Z",
     "start_time": "2025-03-04T21:43:36.063367Z"
    }
   },
   "cell_type": "code",
   "source": [
    "import numpy as np\n",
    "from tem import world\n",
    "obs1 = np.arange(6)\n",
    "obs2 = obs1 + 6\n",
    "n_obs = 45\n",
    "env1 = world.generate_env(spec, n_obs, obs1)\n",
    "env2 = world.generate_env(spec, n_obs, obs2)"
   ],
   "id": "3fe89e2bc2029054",
   "outputs": [],
   "execution_count": 20
  },
  {
   "metadata": {
    "ExecuteTime": {
     "end_time": "2025-03-04T21:43:36.572271Z",
     "start_time": "2025-03-04T21:43:36.568909Z"
    }
   },
   "cell_type": "code",
   "source": [
    "with open(\"../envs/2x3_env1.json\", \"w\") as f:\n",
    "    json.dump(env1, f, indent=4)"
   ],
   "id": "a603d416e096ae8a",
   "outputs": [],
   "execution_count": 21
  },
  {
   "metadata": {
    "ExecuteTime": {
     "end_time": "2025-03-04T21:43:36.976154Z",
     "start_time": "2025-03-04T21:43:36.973372Z"
    }
   },
   "cell_type": "code",
   "source": [
    "with open(\"../envs/2x3_env2.json\", \"w\") as f:\n",
    "    json.dump(env2, f, indent=4)"
   ],
   "id": "6e0c531f7145057b",
   "outputs": [],
   "execution_count": 22
  },
  {
   "metadata": {
    "ExecuteTime": {
     "end_time": "2025-03-04T20:55:58.840376Z",
     "start_time": "2025-03-04T20:55:58.801792Z"
    }
   },
   "cell_type": "code",
   "source": [
    "import matplotlib.pyplot as plt\n",
    "plt.plot([.2, .5, .8, .2, .5, .8], [.35, .35, .35, .65, .65, .65], 'ok')\n",
    "plt.axis('equal')"
   ],
   "id": "fa23e36909afbd2e",
   "outputs": [
    {
     "data": {
      "text/plain": [
       "(np.float64(0.17),\n",
       " np.float64(0.8300000000000001),\n",
       " np.float64(0.33499999999999996),\n",
       " np.float64(0.665))"
      ]
     },
     "execution_count": 50,
     "metadata": {},
     "output_type": "execute_result"
    },
    {
     "data": {
      "text/plain": [
       "<Figure size 640x480 with 1 Axes>"
      ],
      "image/png": "[encoded data removed]"
     },
     "metadata": {},
     "output_type": "display_data"
    }
   ],
   "execution_count": 50
  }
 ],
 "metadata": {
  "kernelspec": {
   "name": "python3",
   "language": "python",
   "display_name": "Python 3 (ipykernel)"
  }
 },
 "nbformat": 5,
 "nbformat_minor": 9
}
